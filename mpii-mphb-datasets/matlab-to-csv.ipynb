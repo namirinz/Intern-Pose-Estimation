{
 "metadata": {
  "language_info": {
   "codemirror_mode": {
    "name": "ipython",
    "version": 3
   },
   "file_extension": ".py",
   "mimetype": "text/x-python",
   "name": "python",
   "nbconvert_exporter": "python",
   "pygments_lexer": "ipython3",
   "version": "3.8.8"
  },
  "orig_nbformat": 2,
  "kernelspec": {
   "name": "python388jvsc74a57bd0da23f156db370d6476cd4b275f8295dea5585d789dbb88242601121a16fe5911",
   "display_name": "Python 3.8.8 64-bit ('torch_env': conda)"
  }
 },
 "nbformat": 4,
 "nbformat_minor": 2,
 "cells": [
  {
   "cell_type": "code",
   "execution_count": 2,
   "metadata": {},
   "outputs": [],
   "source": [
    "import numpy as np\n",
    "import pandas as pd\n",
    "from tqdm.notebook import tqdm, trange\n",
    "import scipy.io as sio\n",
    "import json"
   ]
  },
  {
   "cell_type": "code",
   "execution_count": 3,
   "metadata": {},
   "outputs": [],
   "source": [
    "mat_path = 'MPHB-label-mat/MPHB-label.mat'\n",
    "data = sio.loadmat(mat_path, struct_as_record=False)['GT']"
   ]
  },
  {
   "cell_type": "code",
   "execution_count": 4,
   "metadata": {},
   "outputs": [],
   "source": [
    "idx_arr = []\n",
    "bbox_arr = []\n",
    "filename_arr = []\n",
    "image_type_arr = []"
   ]
  },
  {
   "cell_type": "code",
   "execution_count": 5,
   "metadata": {
    "tags": []
   },
   "outputs": [
    {
     "output_type": "display_data",
     "data": {
      "text/plain": "  0%|          | 0/26675 [00:00<?, ?it/s]",
      "application/vnd.jupyter.widget-view+json": {
       "version_major": 2,
       "version_minor": 0,
       "model_id": "fb6f61df3c434cf1af55809fce32b5c0"
      }
     },
     "metadata": {}
    }
   ],
   "source": [
    "for item in tqdm(data[0]):\n",
    "    num_bboxes = item.__dict__['bbox'].shape[0]\n",
    "    idx = item.__dict__['idx'][0]\n",
    "    source = item.__dict__['source'][0].split(' ')\n",
    "    \n",
    "    image_type = source[0][:-1]\n",
    "    filename = source[1]\n",
    "    \n",
    "    for i in range(num_bboxes):\n",
    "        idx_arr.append(idx)\n",
    "        bbox_arr.append(item.__dict__['bbox'][i])\n",
    "        image_type_arr.append(image_type)\n",
    "        filename_arr.append(filename)"
   ]
  },
  {
   "cell_type": "code",
   "execution_count": 6,
   "metadata": {},
   "outputs": [
    {
     "output_type": "execute_result",
     "data": {
      "text/plain": [
       "array([[467.96543779,  84.73963134, 591.83640553, 476.99769585],\n",
       "       [521.05299539, 120.13133641, 712.75806452, 606.76728111],\n",
       "       [358.84101382,  78.84101382, 512.20506912, 612.66589862],\n",
       "       ...,\n",
       "       [ 20.        ,   5.        , 143.        , 136.        ],\n",
       "       [  6.        ,  12.        ,  61.        , 161.        ],\n",
       "       [ 13.        ,   1.        ,  56.        , 187.        ]])"
      ]
     },
     "metadata": {},
     "execution_count": 6
    }
   ],
   "source": [
    "bbox_arr = np.array(bbox_arr)\n",
    "bbox_arr"
   ]
  },
  {
   "cell_type": "code",
   "execution_count": 7,
   "metadata": {},
   "outputs": [
    {
     "output_type": "stream",
     "name": "stdout",
     "text": [
      "29732\n(29732, 4)\n"
     ]
    }
   ],
   "source": [
    "print(len(idx_arr))\n",
    "print(bbox_arr.shape)"
   ]
  },
  {
   "cell_type": "code",
   "execution_count": 8,
   "metadata": {},
   "outputs": [
    {
     "output_type": "execute_result",
     "data": {
      "text/plain": [
       "{'_fieldnames': ['idx', 'bbox', 'source'],\n",
       " 'idx': array(['00001'], dtype='<U5'),\n",
       " 'bbox': array([[467.96543779,  84.73963134, 591.83640553, 476.99769585],\n",
       "        [521.05299539, 120.13133641, 712.75806452, 606.76728111]]),\n",
       " 'source': array(['MPII: 000001163.jpg'], dtype='<U19')}"
      ]
     },
     "metadata": {},
     "execution_count": 8
    }
   ],
   "source": [
    "data[0, 0].__dict__"
   ]
  },
  {
   "cell_type": "code",
   "execution_count": 9,
   "metadata": {},
   "outputs": [],
   "source": [
    "df = pd.DataFrame({'idx': idx_arr, 'filename': filename_arr, 'type': image_type_arr, 'xmin': bbox_arr[:, 0], 'xmax': bbox_arr[:, 2], 'ymin': bbox_arr[:, 1], 'ymax': bbox_arr[:, 3]})"
   ]
  },
  {
   "cell_type": "code",
   "execution_count": 15,
   "metadata": {},
   "outputs": [],
   "source": [
    "with open('index_to_class.json', 'r') as f:\n",
    "    d_map = json.load(f)\n",
    "\n",
    "label_map  = {'standing': 0, 'bent': 4, 'kneeling': 3, 'lying': 2, 'sitting': 1, 'occlusion': 5}\n",
    "\n",
    "df['class'] = df['idx'].map(lambda x: d_map[x])\n",
    "df['label'] = df['class'].map(lambda x: label_map[x])"
   ]
  },
  {
   "cell_type": "code",
   "execution_count": 16,
   "metadata": {},
   "outputs": [
    {
     "output_type": "execute_result",
     "data": {
      "text/plain": [
       "     idx       filename  type         xmin         xmax        ymin  \\\n",
       "0  00001  000001163.jpg  MPII   467.965438   591.836406   84.739631   \n",
       "1  00001  000001163.jpg  MPII   521.052995   712.758065  120.131336   \n",
       "2  00002  000003072.jpg  MPII   358.841014   512.205069   78.841014   \n",
       "3  00002  000003072.jpg  MPII   591.836406   898.564516  123.080645   \n",
       "4  00003  000004812.jpg  MPII  1312.205069  1825.384793  471.928571   \n",
       "\n",
       "          ymax     class  label  \n",
       "0   476.997696  standing      0  \n",
       "1   606.767281  standing      0  \n",
       "2   612.665899  standing      0  \n",
       "3   597.919355  standing      0  \n",
       "4  1069.163594      bent      4  "
      ],
      "text/html": "<div>\n<style scoped>\n    .dataframe tbody tr th:only-of-type {\n        vertical-align: middle;\n    }\n\n    .dataframe tbody tr th {\n        vertical-align: top;\n    }\n\n    .dataframe thead th {\n        text-align: right;\n    }\n</style>\n<table border=\"1\" class=\"dataframe\">\n  <thead>\n    <tr style=\"text-align: right;\">\n      <th></th>\n      <th>idx</th>\n      <th>filename</th>\n      <th>type</th>\n      <th>xmin</th>\n      <th>xmax</th>\n      <th>ymin</th>\n      <th>ymax</th>\n      <th>class</th>\n      <th>label</th>\n    </tr>\n  </thead>\n  <tbody>\n    <tr>\n      <th>0</th>\n      <td>00001</td>\n      <td>000001163.jpg</td>\n      <td>MPII</td>\n      <td>467.965438</td>\n      <td>591.836406</td>\n      <td>84.739631</td>\n      <td>476.997696</td>\n      <td>standing</td>\n      <td>0</td>\n    </tr>\n    <tr>\n      <th>1</th>\n      <td>00001</td>\n      <td>000001163.jpg</td>\n      <td>MPII</td>\n      <td>521.052995</td>\n      <td>712.758065</td>\n      <td>120.131336</td>\n      <td>606.767281</td>\n      <td>standing</td>\n      <td>0</td>\n    </tr>\n    <tr>\n      <th>2</th>\n      <td>00002</td>\n      <td>000003072.jpg</td>\n      <td>MPII</td>\n      <td>358.841014</td>\n      <td>512.205069</td>\n      <td>78.841014</td>\n      <td>612.665899</td>\n      <td>standing</td>\n      <td>0</td>\n    </tr>\n    <tr>\n      <th>3</th>\n      <td>00002</td>\n      <td>000003072.jpg</td>\n      <td>MPII</td>\n      <td>591.836406</td>\n      <td>898.564516</td>\n      <td>123.080645</td>\n      <td>597.919355</td>\n      <td>standing</td>\n      <td>0</td>\n    </tr>\n    <tr>\n      <th>4</th>\n      <td>00003</td>\n      <td>000004812.jpg</td>\n      <td>MPII</td>\n      <td>1312.205069</td>\n      <td>1825.384793</td>\n      <td>471.928571</td>\n      <td>1069.163594</td>\n      <td>bent</td>\n      <td>4</td>\n    </tr>\n  </tbody>\n</table>\n</div>"
     },
     "metadata": {},
     "execution_count": 16
    }
   ],
   "source": [
    "df.head()"
   ]
  },
  {
   "cell_type": "code",
   "execution_count": 17,
   "metadata": {},
   "outputs": [],
   "source": [
    "df.to_csv('mphb_datasets.csv', index=False)"
   ]
  }
 ]
}