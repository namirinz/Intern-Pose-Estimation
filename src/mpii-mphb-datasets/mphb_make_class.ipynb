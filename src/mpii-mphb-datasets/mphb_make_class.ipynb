{
 "metadata": {
  "language_info": {
   "codemirror_mode": {
    "name": "ipython",
    "version": 3
   },
   "file_extension": ".py",
   "mimetype": "text/x-python",
   "name": "python",
   "nbconvert_exporter": "python",
   "pygments_lexer": "ipython3",
   "version": "3.9.4"
  },
  "orig_nbformat": 2,
  "kernelspec": {
   "name": "python394jvsc74a57bd0c5e436425fd0bc1bb90abb3399859377de9eac441eda7c06e6cae01cd949cc28",
   "display_name": "Python 3.9.4 64-bit ('datasci_env': conda)"
  }
 },
 "nbformat": 4,
 "nbformat_minor": 2,
 "cells": [
  {
   "cell_type": "code",
   "execution_count": 1,
   "metadata": {},
   "outputs": [],
   "source": [
    "import numpy as np\n",
    "import pandas as pd\n",
    "import json"
   ]
  },
  {
   "cell_type": "code",
   "execution_count": 2,
   "metadata": {},
   "outputs": [
    {
     "output_type": "stream",
     "name": "stdout",
     "text": [
      "10229\n"
     ]
    },
    {
     "output_type": "execute_result",
     "data": {
      "text/plain": [
       "       0\n",
       "0  00003\n",
       "1  00029\n",
       "2  00032\n",
       "3  00033\n",
       "4  00036"
      ],
      "text/html": "<div>\n<style scoped>\n    .dataframe tbody tr th:only-of-type {\n        vertical-align: middle;\n    }\n\n    .dataframe tbody tr th {\n        vertical-align: top;\n    }\n\n    .dataframe thead th {\n        text-align: right;\n    }\n</style>\n<table border=\"1\" class=\"dataframe\">\n  <thead>\n    <tr style=\"text-align: right;\">\n      <th></th>\n      <th>0</th>\n    </tr>\n  </thead>\n  <tbody>\n    <tr>\n      <th>0</th>\n      <td>00003</td>\n    </tr>\n    <tr>\n      <th>1</th>\n      <td>00029</td>\n    </tr>\n    <tr>\n      <th>2</th>\n      <td>00032</td>\n    </tr>\n    <tr>\n      <th>3</th>\n      <td>00033</td>\n    </tr>\n    <tr>\n      <th>4</th>\n      <td>00036</td>\n    </tr>\n  </tbody>\n</table>\n</div>"
     },
     "metadata": {},
     "execution_count": 2
    }
   ],
   "source": [
    "df_bent = pd.read_excel('MPHB-class/bent.xlsx', index_col=None, header=None, dtype={0: str})\n",
    "print(len(df_bent))\n",
    "df_bent.head()"
   ]
  },
  {
   "cell_type": "code",
   "execution_count": 3,
   "metadata": {},
   "outputs": [
    {
     "output_type": "stream",
     "name": "stdout",
     "text": [
      "1053\n"
     ]
    },
    {
     "output_type": "execute_result",
     "data": {
      "text/plain": [
       "       0\n",
       "0  00021\n",
       "1  00095\n",
       "2  00120\n",
       "3  00126\n",
       "4  00143"
      ],
      "text/html": "<div>\n<style scoped>\n    .dataframe tbody tr th:only-of-type {\n        vertical-align: middle;\n    }\n\n    .dataframe tbody tr th {\n        vertical-align: top;\n    }\n\n    .dataframe thead th {\n        text-align: right;\n    }\n</style>\n<table border=\"1\" class=\"dataframe\">\n  <thead>\n    <tr style=\"text-align: right;\">\n      <th></th>\n      <th>0</th>\n    </tr>\n  </thead>\n  <tbody>\n    <tr>\n      <th>0</th>\n      <td>00021</td>\n    </tr>\n    <tr>\n      <th>1</th>\n      <td>00095</td>\n    </tr>\n    <tr>\n      <th>2</th>\n      <td>00120</td>\n    </tr>\n    <tr>\n      <th>3</th>\n      <td>00126</td>\n    </tr>\n    <tr>\n      <th>4</th>\n      <td>00143</td>\n    </tr>\n  </tbody>\n</table>\n</div>"
     },
     "metadata": {},
     "execution_count": 3
    }
   ],
   "source": [
    "df_knee = pd.read_excel('MPHB-class/kneeling.xlsx', index_col=None, header=None, dtype={0: str})\n",
    "print(len(df_knee))\n",
    "df_knee.head()"
   ]
  },
  {
   "cell_type": "code",
   "execution_count": 4,
   "metadata": {},
   "outputs": [
    {
     "output_type": "stream",
     "name": "stdout",
     "text": [
      "1123\n"
     ]
    },
    {
     "output_type": "execute_result",
     "data": {
      "text/plain": [
       "       0\n",
       "0  00049\n",
       "1  00100\n",
       "2  00109\n",
       "3  00113\n",
       "4  00161"
      ],
      "text/html": "<div>\n<style scoped>\n    .dataframe tbody tr th:only-of-type {\n        vertical-align: middle;\n    }\n\n    .dataframe tbody tr th {\n        vertical-align: top;\n    }\n\n    .dataframe thead th {\n        text-align: right;\n    }\n</style>\n<table border=\"1\" class=\"dataframe\">\n  <thead>\n    <tr style=\"text-align: right;\">\n      <th></th>\n      <th>0</th>\n    </tr>\n  </thead>\n  <tbody>\n    <tr>\n      <th>0</th>\n      <td>00049</td>\n    </tr>\n    <tr>\n      <th>1</th>\n      <td>00100</td>\n    </tr>\n    <tr>\n      <th>2</th>\n      <td>00109</td>\n    </tr>\n    <tr>\n      <th>3</th>\n      <td>00113</td>\n    </tr>\n    <tr>\n      <th>4</th>\n      <td>00161</td>\n    </tr>\n  </tbody>\n</table>\n</div>"
     },
     "metadata": {},
     "execution_count": 4
    }
   ],
   "source": [
    "df_lying = pd.read_excel('MPHB-class/lying.xlsx', index_col=None, header=None, dtype={0: str})\n",
    "print(len(df_lying))\n",
    "df_lying.head()"
   ]
  },
  {
   "cell_type": "code",
   "execution_count": 5,
   "metadata": {},
   "outputs": [
    {
     "output_type": "stream",
     "name": "stdout",
     "text": [
      "5739\n"
     ]
    },
    {
     "output_type": "execute_result",
     "data": {
      "text/plain": [
       "       0\n",
       "0  00006\n",
       "1  00016\n",
       "2  00017\n",
       "3  00027\n",
       "4  00028"
      ],
      "text/html": "<div>\n<style scoped>\n    .dataframe tbody tr th:only-of-type {\n        vertical-align: middle;\n    }\n\n    .dataframe tbody tr th {\n        vertical-align: top;\n    }\n\n    .dataframe thead th {\n        text-align: right;\n    }\n</style>\n<table border=\"1\" class=\"dataframe\">\n  <thead>\n    <tr style=\"text-align: right;\">\n      <th></th>\n      <th>0</th>\n    </tr>\n  </thead>\n  <tbody>\n    <tr>\n      <th>0</th>\n      <td>00006</td>\n    </tr>\n    <tr>\n      <th>1</th>\n      <td>00016</td>\n    </tr>\n    <tr>\n      <th>2</th>\n      <td>00017</td>\n    </tr>\n    <tr>\n      <th>3</th>\n      <td>00027</td>\n    </tr>\n    <tr>\n      <th>4</th>\n      <td>00028</td>\n    </tr>\n  </tbody>\n</table>\n</div>"
     },
     "metadata": {},
     "execution_count": 5
    }
   ],
   "source": [
    "df_partial= pd.read_excel('MPHB-class/partial.xlsx', index_col=None, header=None, dtype={0: str})\n",
    "print(len(df_partial))\n",
    "df_partial.head()"
   ]
  },
  {
   "cell_type": "code",
   "execution_count": 6,
   "metadata": {},
   "outputs": [
    {
     "output_type": "stream",
     "name": "stdout",
     "text": [
      "4040\n"
     ]
    },
    {
     "output_type": "execute_result",
     "data": {
      "text/plain": [
       "       0\n",
       "0  00012\n",
       "1  00022\n",
       "2  00024\n",
       "3  00034\n",
       "4  00053"
      ],
      "text/html": "<div>\n<style scoped>\n    .dataframe tbody tr th:only-of-type {\n        vertical-align: middle;\n    }\n\n    .dataframe tbody tr th {\n        vertical-align: top;\n    }\n\n    .dataframe thead th {\n        text-align: right;\n    }\n</style>\n<table border=\"1\" class=\"dataframe\">\n  <thead>\n    <tr style=\"text-align: right;\">\n      <th></th>\n      <th>0</th>\n    </tr>\n  </thead>\n  <tbody>\n    <tr>\n      <th>0</th>\n      <td>00012</td>\n    </tr>\n    <tr>\n      <th>1</th>\n      <td>00022</td>\n    </tr>\n    <tr>\n      <th>2</th>\n      <td>00024</td>\n    </tr>\n    <tr>\n      <th>3</th>\n      <td>00034</td>\n    </tr>\n    <tr>\n      <th>4</th>\n      <td>00053</td>\n    </tr>\n  </tbody>\n</table>\n</div>"
     },
     "metadata": {},
     "execution_count": 6
    }
   ],
   "source": [
    "df_sitting= pd.read_excel('MPHB-class/sitting.xlsx', index_col=None, header=None, dtype={0: str})\n",
    "print(len(df_sitting))\n",
    "df_sitting.head()"
   ]
  },
  {
   "cell_type": "code",
   "execution_count": 7,
   "metadata": {},
   "outputs": [
    {
     "output_type": "stream",
     "name": "stdout",
     "text": [
      "4492\n"
     ]
    },
    {
     "output_type": "execute_result",
     "data": {
      "text/plain": [
       "       0\n",
       "0  00001\n",
       "1  00002\n",
       "2  00004\n",
       "3  00005\n",
       "4  00007"
      ],
      "text/html": "<div>\n<style scoped>\n    .dataframe tbody tr th:only-of-type {\n        vertical-align: middle;\n    }\n\n    .dataframe tbody tr th {\n        vertical-align: top;\n    }\n\n    .dataframe thead th {\n        text-align: right;\n    }\n</style>\n<table border=\"1\" class=\"dataframe\">\n  <thead>\n    <tr style=\"text-align: right;\">\n      <th></th>\n      <th>0</th>\n    </tr>\n  </thead>\n  <tbody>\n    <tr>\n      <th>0</th>\n      <td>00001</td>\n    </tr>\n    <tr>\n      <th>1</th>\n      <td>00002</td>\n    </tr>\n    <tr>\n      <th>2</th>\n      <td>00004</td>\n    </tr>\n    <tr>\n      <th>3</th>\n      <td>00005</td>\n    </tr>\n    <tr>\n      <th>4</th>\n      <td>00007</td>\n    </tr>\n  </tbody>\n</table>\n</div>"
     },
     "metadata": {},
     "execution_count": 7
    }
   ],
   "source": [
    "df_upright = pd.read_excel('MPHB-class/upright.xlsx', index_col=None, header=None, dtype={0: str})\n",
    "print(len(df_upright))\n",
    "df_upright.head()"
   ]
  },
  {
   "cell_type": "code",
   "execution_count": 10,
   "metadata": {
    "tags": []
   },
   "outputs": [],
   "source": [
    "d_map = {}\n",
    "\n",
    "for item in df_bent[0]:\n",
    "    d_map[item] = 'bent'\n",
    "\n",
    "for item in df_knee[0]:\n",
    "    d_map[item] = 'kneeling'\n",
    "\n",
    "for item in df_lying[0]:\n",
    "    d_map[item] = 'lying'\n",
    "\n",
    "for item in df_partial[0]:\n",
    "    d_map[item] = 'occlusion'\n",
    "\n",
    "for item in df_sitting[0]:\n",
    "    d_map[item] = 'sitting'\n",
    "\n",
    "for item in df_upright[0]:\n",
    "    d_map[item] = 'standing'"
   ]
  },
  {
   "cell_type": "code",
   "execution_count": 12,
   "metadata": {},
   "outputs": [
    {
     "output_type": "stream",
     "name": "stdout",
     "text": [
      "26675\n"
     ]
    }
   ],
   "source": [
    "print(len(d_map))"
   ]
  },
  {
   "cell_type": "code",
   "execution_count": 13,
   "metadata": {},
   "outputs": [],
   "source": [
    "with open('index_to_class.json', 'w') as f:\n",
    "    json.dump(d_map, f)"
   ]
  }
 ]
}