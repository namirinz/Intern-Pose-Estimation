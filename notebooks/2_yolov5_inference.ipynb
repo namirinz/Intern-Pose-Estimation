{
 "cells": [
  {
   "cell_type": "code",
   "execution_count": 2,
   "id": "simple-oasis",
   "metadata": {},
   "outputs": [],
   "source": [
    "import torch\n",
    "import cv2"
   ]
  },
  {
   "cell_type": "code",
   "execution_count": 3,
   "id": "signal-circus",
   "metadata": {},
   "outputs": [
    {
     "output_type": "stream",
     "name": "stderr",
     "text": [
      "Using cache found in /root/.cache/torch/hub/ultralytics_yolov5_master\n",
      "Fusing layers... \n",
      "Model Summary: 308 layers, 21356877 parameters, 0 gradients\n",
      "Adding autoShape... \n",
      "YOLOv5 🚀 2021-5-11 torch 1.8.1+cu111 CUDA:0 (NVIDIA GeForce RTX 3080, 10240.0MB)\n",
      "\n"
     ]
    }
   ],
   "source": [
    "model = torch.hub.load('ultralytics/yolov5', 'yolov5m')"
   ]
  },
  {
   "cell_type": "code",
   "execution_count": 4,
   "id": "automatic-destruction",
   "metadata": {},
   "outputs": [],
   "source": [
    "import time\n",
    "\n",
    "torch.backends.cudnn.benchmark = False\n",
    "\n",
    "video_path = '../../../data/videos/example1.mp4'\n",
    "cap = cv2.VideoCapture(video_path)\n",
    "fps = cap.get(cv2.CAP_PROP_FPS)\n",
    "size = (int(cap.get(cv2.CAP_PROP_FRAME_WIDTH)), int(cap.get(cv2.CAP_PROP_FRAME_HEIGHT)))"
   ]
  },
  {
   "cell_type": "code",
   "execution_count": 5,
   "id": "norwegian-telephone",
   "metadata": {},
   "outputs": [
    {
     "output_type": "stream",
     "name": "stdout",
     "text": [
      "FPS: 29.97002997002997, Size: (854, 480)\n"
     ]
    }
   ],
   "source": [
    "print(f'FPS: {fps}, Size: {size}')"
   ]
  },
  {
   "cell_type": "code",
   "execution_count": 6,
   "id": "amazing-january",
   "metadata": {},
   "outputs": [],
   "source": [
    "FONT_SCALE = 1\n",
    "FONT_FACE = cv2.FONT_HERSHEY_SIMPLEX\n",
    "FONT_COLOR = (39, 0, 247)\n",
    "FONT_THICKNESS = 3"
   ]
  },
  {
   "cell_type": "code",
   "execution_count": 7,
   "id": "desirable-stomach",
   "metadata": {},
   "outputs": [],
   "source": [
    "torch.backends.cudnn.benchmark = False\n",
    "\n",
    "while (cap.isOpened()):\n",
    "    flag, img = cap.read()\n",
    "    if not flag:\n",
    "        break\n",
    "    s1 = time.time()\n",
    "    \n",
    "    results = model(img)\n",
    "    results.imgs\n",
    "    results.render()\n",
    "    vis_img = results.imgs[0]\n",
    "    \n",
    "    fps_process = 1 / (time.time()-s1)\n",
    "    \n",
    "    cv2.putText(vis_img,f'FPS {fps_process:.2f}', (size[0]-200, 30),  FONT_FACE, FONT_SCALE, FONT_COLOR, FONT_THICKNESS)    \n",
    "    cv2.imshow('Image', vis_img)\n",
    "    \n",
    "    if cv2.waitKey(1) == ord('k'):\n",
    "        break\n",
    "\n",
    "cap.release()\n",
    "cv2.destroyAllWindows()"
   ]
  }
 ],
 "metadata": {
  "kernelspec": {
   "name": "python388jvsc74a57bd0fc1ff3713ff3c11986461a4de01f67239d58c109fe8423da38c3985e245c0392",
   "display_name": "Python 3.8.8 64-bit ('mmpose_env': conda)"
  },
  "language_info": {
   "codemirror_mode": {
    "name": "ipython",
    "version": 3
   },
   "file_extension": ".py",
   "mimetype": "text/x-python",
   "name": "python",
   "nbconvert_exporter": "python",
   "pygments_lexer": "ipython3",
   "version": "3.8.8"
  }
 },
 "nbformat": 4,
 "nbformat_minor": 5
}